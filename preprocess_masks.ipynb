{
 "cells": [
  {
   "cell_type": "code",
   "execution_count": 5,
   "id": "0ff737ea",
   "metadata": {},
   "outputs": [
    {
     "name": "stdout",
     "output_type": "stream",
     "text": [
      "Found 8701 patient exhale masks. Starting preprocessing...\n",
      "Starting parallel processing with 40 workers.\n"
     ]
    },
    {
     "name": "stderr",
     "output_type": "stream",
     "text": [
      "100%|██████████| 8701/8701 [08:55<00:00, 16.26it/s]\n"
     ]
    },
    {
     "name": "stdout",
     "output_type": "stream",
     "text": [
      "\\n--- Mask Preprocessing Complete ---\n",
      "Successfully processed: 8701 masks.\n",
      "Failed to process: 0 masks.\n"
     ]
    }
   ],
   "source": [
    "# preprocess_masks.ipynb\n",
    "\n",
    "import multiprocessing\n",
    "from pathlib import Path\n",
    "import nibabel as nib\n",
    "import numpy as np\n",
    "from scipy.ndimage import zoom\n",
    "from tqdm import tqdm\n",
    "\n",
    "# --- Configuration ---\n",
    "RAW_DATA_ROOT = Path(\"/mnt/hot/public/COPDGene-1\")\n",
    "PROCESSED_DATA_DIR = Path(\"/mnt/hot/public/Akul/exhale_pred_data\")\n",
    "TARGET_SHAPE = (128, 128, 128)\n",
    "\n",
    "def process_mask(patient_id: str):\n",
    "    \"\"\"\n",
    "    Loads, resizes (using nearest-neighbor interpolation), and saves the exhale\n",
    "    segmentation mask for a single patient ID.\n",
    "    \"\"\"\n",
    "    try:\n",
    "        # We only need the exhale mask for evaluating the exhale reconstruction\n",
    "        mask_path = RAW_DATA_ROOT / f\"{patient_id}_EXP_mask.nii.gz\"\n",
    "\n",
    "        if not mask_path.exists():\n",
    "            return f\"Skipped {patient_id}: Missing exhale mask file.\"\n",
    "\n",
    "        mask_nii = nib.load(mask_path)\n",
    "        mask_data = mask_nii.get_fdata().astype(np.uint8) # Masks are integer types\n",
    "        \n",
    "        # --- IMPORTANT ---\n",
    "        # Resize the mask using nearest-neighbor interpolation (order=0) to\n",
    "        # preserve the binary nature of the mask without creating intermediate values.\n",
    "        zoom_factors = [t / s for t, s in zip(TARGET_SHAPE, mask_data.shape)]\n",
    "        mask_resized = zoom(mask_data, zoom_factors, order=0, prefilter=False)\n",
    "        \n",
    "        # Save the processed mask\n",
    "        save_dir = PROCESSED_DATA_DIR / \"masks\" / \"exhale\"\n",
    "        np.save(save_dir / f\"{patient_id}_EXP_mask.npy\", mask_resized)\n",
    "        \n",
    "        return None\n",
    "    except Exception as e:\n",
    "        return f\"Error processing {patient_id} mask: {e}\"\n",
    "\n",
    "def main():\n",
    "    \"\"\"\n",
    "    Finds all patient IDs with exhale masks and processes them in parallel.\n",
    "    \"\"\"\n",
    "    # Create the output directory\n",
    "    (PROCESSED_DATA_DIR / \"masks\" / \"exhale\").mkdir(parents=True, exist_ok=True)\n",
    "\n",
    "    all_mask_files = list(RAW_DATA_ROOT.glob(\"*_EXP_mask.nii.gz\"))\n",
    "    patient_ids = sorted([f.name.split('_')[0] for f in all_mask_files])\n",
    "\n",
    "    if not patient_ids:\n",
    "        print(f\"Error: No exhale masks found in {RAW_DATA_ROOT}. Please check the path and file naming.\")\n",
    "        return\n",
    "\n",
    "    print(f\"Found {len(patient_ids)} patient exhale masks. Starting preprocessing...\")\n",
    "    \n",
    "    num_processes = multiprocessing.cpu_count()\n",
    "    print(f\"Starting parallel processing with {num_processes} workers.\")\n",
    "    \n",
    "    with multiprocessing.Pool(processes=num_processes) as pool:\n",
    "        results = list(tqdm(pool.imap_unordered(process_mask, patient_ids), total=len(patient_ids)))\n",
    "\n",
    "    error_count = sum(1 for res in results if res is not None)\n",
    "    for res in results:\n",
    "        if res is not None:\n",
    "            print(res)\n",
    "\n",
    "    print(\"\\\\n--- Mask Preprocessing Complete ---\")\n",
    "    print(f\"Successfully processed: {len(patient_ids) - error_count} masks.\")\n",
    "    print(f\"Failed to process: {error_count} masks.\")\n",
    "\n",
    "if __name__ == \"__main__\":\n",
    "    main()"
   ]
  },
  {
   "cell_type": "code",
   "execution_count": 4,
   "id": "54d3e543",
   "metadata": {},
   "outputs": [
    {
     "name": "stdout",
     "output_type": "stream",
     "text": [
      "Found 8701 patient exhale masks. Starting preprocessing...\n",
      "Starting parallel processing with 40 workers.\n"
     ]
    },
    {
     "name": "stderr",
     "output_type": "stream",
     "text": [
      "100%|██████████| 8701/8701 [09:21<00:00, 15.49it/s]\n"
     ]
    },
    {
     "name": "stdout",
     "output_type": "stream",
     "text": [
      "\\n--- Mask Preprocessing Complete ---\n",
      "Successfully processed: 8701 masks.\n",
      "Failed to process: 0 masks.\n"
     ]
    }
   ],
   "source": [
    "# preprocess_masks.ipynb\n",
    "\n",
    "import multiprocessing\n",
    "from pathlib import Path\n",
    "import nibabel as nib\n",
    "import numpy as np\n",
    "from scipy.ndimage import zoom\n",
    "from tqdm import tqdm\n",
    "\n",
    "# --- Configuration ---\n",
    "RAW_DATA_ROOT = Path(\"/mnt/hot/public/COPDGene-1\")\n",
    "PROCESSED_DATA_DIR = Path(\"/mnt/hot/public/Akul/exhale_pred_data\")\n",
    "TARGET_SHAPE = (128, 128, 128)\n",
    "\n",
    "def process_mask(patient_id: str):\n",
    "    \"\"\"\n",
    "    Loads, resizes (using nearest-neighbor interpolation), and saves the exhale\n",
    "    segmentation mask for a single patient ID.\n",
    "    \"\"\"\n",
    "    try:\n",
    "        # We only need the exhale mask for evaluating the exhale reconstruction\n",
    "        mask_path = RAW_DATA_ROOT / f\"{patient_id}_INSP_mask.nii.gz\"\n",
    "\n",
    "        if not mask_path.exists():\n",
    "            return f\"Skipped {patient_id}: Missing exhale mask file.\"\n",
    "\n",
    "        mask_nii = nib.load(mask_path)\n",
    "        mask_data = mask_nii.get_fdata().astype(np.uint8) # Masks are integer types\n",
    "        \n",
    "        # --- IMPORTANT ---\n",
    "        # Resize the mask using nearest-neighbor interpolation (order=0) to\n",
    "        # preserve the binary nature of the mask without creating intermediate values.\n",
    "        zoom_factors = [t / s for t, s in zip(TARGET_SHAPE, mask_data.shape)]\n",
    "        mask_resized = zoom(mask_data, zoom_factors, order=0, prefilter=False)\n",
    "        \n",
    "        # Save the processed mask\n",
    "        save_dir = PROCESSED_DATA_DIR / \"masks\" / \"inhale\"\n",
    "        np.save(save_dir / f\"{patient_id}_EXP_mask.npy\", mask_resized)\n",
    "        \n",
    "        return None\n",
    "    except Exception as e:\n",
    "        return f\"Error processing {patient_id} mask: {e}\"\n",
    "\n",
    "def main():\n",
    "    \"\"\"\n",
    "    Finds all patient IDs with exhale masks and processes them in parallel.\n",
    "    \"\"\"\n",
    "    # Create the output directory\n",
    "    (PROCESSED_DATA_DIR / \"masks\" / \"inhale\").mkdir(parents=True, exist_ok=True)\n",
    "\n",
    "    all_mask_files = list(RAW_DATA_ROOT.glob(\"*_EXP_mask.nii.gz\"))\n",
    "    patient_ids = sorted([f.name.split('_')[0] for f in all_mask_files])\n",
    "\n",
    "    if not patient_ids:\n",
    "        print(f\"Error: No exhale masks found in {RAW_DATA_ROOT}. Please check the path and file naming.\")\n",
    "        return\n",
    "\n",
    "    print(f\"Found {len(patient_ids)} patient exhale masks. Starting preprocessing...\")\n",
    "    \n",
    "    num_processes = multiprocessing.cpu_count()\n",
    "    print(f\"Starting parallel processing with {num_processes} workers.\")\n",
    "    \n",
    "    with multiprocessing.Pool(processes=num_processes) as pool:\n",
    "        results = list(tqdm(pool.imap_unordered(process_mask, patient_ids), total=len(patient_ids)))\n",
    "\n",
    "    error_count = sum(1 for res in results if res is not None)\n",
    "    for res in results:\n",
    "        if res is not None:\n",
    "            print(res)\n",
    "\n",
    "    print(\"\\\\n--- Mask Preprocessing Complete ---\")\n",
    "    print(f\"Successfully processed: {len(patient_ids) - error_count} masks.\")\n",
    "    print(f\"Failed to process: {error_count} masks.\")\n",
    "\n",
    "if __name__ == \"__main__\":\n",
    "    main()"
   ]
  }
 ],
 "metadata": {
  "kernelspec": {
   "display_name": "exhale_pred",
   "language": "python",
   "name": "python3"
  },
  "language_info": {
   "codemirror_mode": {
    "name": "ipython",
    "version": 3
   },
   "file_extension": ".py",
   "mimetype": "text/x-python",
   "name": "python",
   "nbconvert_exporter": "python",
   "pygments_lexer": "ipython3",
   "version": "3.10.18"
  }
 },
 "nbformat": 4,
 "nbformat_minor": 5
}
